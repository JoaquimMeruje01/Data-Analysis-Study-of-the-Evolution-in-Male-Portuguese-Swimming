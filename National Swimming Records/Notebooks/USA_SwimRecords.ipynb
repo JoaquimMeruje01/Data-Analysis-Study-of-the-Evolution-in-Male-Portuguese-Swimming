{
  "cells": [
    {
      "attachments": {},
      "cell_type": "markdown",
      "metadata": {},
      "source": [
        "## Data Preparation: Study of the Evolution in Male Portuguese Swimming\n",
        "## 2) American Records"
      ]
    },
    {
      "cell_type": "code",
      "execution_count": null,
      "metadata": {
        "id": "ortaV7cyWlXC"
      },
      "outputs": [],
      "source": [
        "# Import Libraries\n",
        "import pandas as pd\n",
        "import numpy as np"
      ]
    },
    {
      "cell_type": "code",
      "execution_count": null,
      "metadata": {
        "colab": {
          "base_uri": "https://localhost:8080/"
        },
        "id": "tlshbIPG5tGf",
        "outputId": "413042ec-909f-4c99-f4ab-c988193ed2a7"
      },
      "outputs": [
        {
          "name": "stdout",
          "output_type": "stream",
          "text": [
            "Drive already mounted at /content/drive; to attempt to forcibly remount, call drive.mount(\"/content/drive\", force_remount=True).\n"
          ]
        }
      ],
      "source": [
        "# Read file from this path\n",
        "path='/content/drive/MyDrive/Colab Notebooks/Swimming Python Project/800Free.csv'\n",
        "event=pd.read_csv(path, encoding= 'unicode_escape')"
      ]
    },
    {
      "cell_type": "code",
      "execution_count": null,
      "metadata": {
        "colab": {
          "base_uri": "https://localhost:8080/",
          "height": 896
        },
        "id": "MLz5jmNU56tT",
        "outputId": "c3447051-ba13-4b78-cb55-01b30a53db72"
      },
      "outputs": [
        {
          "data": {
            "text/html": [
              "\n",
              "  <div id=\"df-070da51e-84fd-4ecb-9ddd-2ef5a917393a\">\n",
              "    <div class=\"colab-df-container\">\n",
              "      <div>\n",
              "<style scoped>\n",
              "    .dataframe tbody tr th:only-of-type {\n",
              "        vertical-align: middle;\n",
              "    }\n",
              "\n",
              "    .dataframe tbody tr th {\n",
              "        vertical-align: top;\n",
              "    }\n",
              "\n",
              "    .dataframe thead th {\n",
              "        text-align: right;\n",
              "    }\n",
              "</style>\n",
              "<table border=\"1\" class=\"dataframe\">\n",
              "  <thead>\n",
              "    <tr style=\"text-align: right;\">\n",
              "      <th></th>\n",
              "      <th>Time</th>\n",
              "      <th>Name</th>\n",
              "      <th>Date</th>\n",
              "    </tr>\n",
              "  </thead>\n",
              "  <tbody>\n",
              "    <tr>\n",
              "      <th>0</th>\n",
              "      <td>4:31.00</td>\n",
              "      <td>Gary Hall</td>\n",
              "      <td>8/21/1970</td>\n",
              "    </tr>\n",
              "    <tr>\n",
              "      <th>1</th>\n",
              "      <td>4:30.81</td>\n",
              "      <td>Gary Hall</td>\n",
              "      <td>8/3/1972</td>\n",
              "    </tr>\n",
              "    <tr>\n",
              "      <th>2</th>\n",
              "      <td>4:30.56</td>\n",
              "      <td>Steven Furniss</td>\n",
              "      <td>8/23/1974</td>\n",
              "    </tr>\n",
              "    <tr>\n",
              "      <th>3</th>\n",
              "      <td>4:28.11</td>\n",
              "      <td>Tim McKee</td>\n",
              "      <td>6/17/1976</td>\n",
              "    </tr>\n",
              "    <tr>\n",
              "      <th>4</th>\n",
              "      <td>4:26.79</td>\n",
              "      <td>Rodney Strachan</td>\n",
              "      <td>6/17/1976</td>\n",
              "    </tr>\n",
              "    <tr>\n",
              "      <th>5</th>\n",
              "      <td>4:23.68</td>\n",
              "      <td>Rodney Strachan</td>\n",
              "      <td>7/25/1976</td>\n",
              "    </tr>\n",
              "    <tr>\n",
              "      <th>6</th>\n",
              "      <td>4:20.05</td>\n",
              "      <td>Jesse Vassallo</td>\n",
              "      <td>8/22/1978</td>\n",
              "    </tr>\n",
              "    <tr>\n",
              "      <th>7</th>\n",
              "      <td>4:18.77</td>\n",
              "      <td>Dave Wharton</td>\n",
              "      <td>6/23/1986</td>\n",
              "    </tr>\n",
              "    <tr>\n",
              "      <th>8</th>\n",
              "      <td>4:18.45</td>\n",
              "      <td>Dave Wharton</td>\n",
              "      <td>7/29/1987</td>\n",
              "    </tr>\n",
              "    <tr>\n",
              "      <th>9</th>\n",
              "      <td>4:17.81</td>\n",
              "      <td>Dave Wharton</td>\n",
              "      <td>7/29/1987</td>\n",
              "    </tr>\n",
              "    <tr>\n",
              "      <th>10</th>\n",
              "      <td>4:16.12</td>\n",
              "      <td>Dave Wharton</td>\n",
              "      <td>8/14/1987</td>\n",
              "    </tr>\n",
              "    <tr>\n",
              "      <th>11</th>\n",
              "      <td>4:15.93</td>\n",
              "      <td>Dave Wharton</td>\n",
              "      <td>8/2/1989</td>\n",
              "    </tr>\n",
              "    <tr>\n",
              "      <th>12</th>\n",
              "      <td>4:15.78</td>\n",
              "      <td>Eric Namesnik</td>\n",
              "      <td>7/30/1990</td>\n",
              "    </tr>\n",
              "    <tr>\n",
              "      <th>13</th>\n",
              "      <td>4:15.57</td>\n",
              "      <td>Eric Namesnik</td>\n",
              "      <td>7/30/1990</td>\n",
              "    </tr>\n",
              "    <tr>\n",
              "      <th>14</th>\n",
              "      <td>4:15.21</td>\n",
              "      <td>Eric Namesnik</td>\n",
              "      <td>1/8/1991</td>\n",
              "    </tr>\n",
              "    <tr>\n",
              "      <th>15</th>\n",
              "      <td>4:14.50</td>\n",
              "      <td>Eric Namesnik</td>\n",
              "      <td>7/28/1993</td>\n",
              "    </tr>\n",
              "    <tr>\n",
              "      <th>16</th>\n",
              "      <td>4:13.52</td>\n",
              "      <td>Tom Dolan</td>\n",
              "      <td>4/1/1994</td>\n",
              "    </tr>\n",
              "    <tr>\n",
              "      <th>17</th>\n",
              "      <td>4:12.30</td>\n",
              "      <td>Tom Dolan</td>\n",
              "      <td>9/6/1994</td>\n",
              "    </tr>\n",
              "    <tr>\n",
              "      <th>18</th>\n",
              "      <td>4:11.76</td>\n",
              "      <td>Tom Dolan</td>\n",
              "      <td>9/17/2000</td>\n",
              "    </tr>\n",
              "    <tr>\n",
              "      <th>19</th>\n",
              "      <td>4:11.09</td>\n",
              "      <td>Michael Phelps</td>\n",
              "      <td>8/15/2002</td>\n",
              "    </tr>\n",
              "    <tr>\n",
              "      <th>20</th>\n",
              "      <td>4:10.73</td>\n",
              "      <td>Michael Phelps</td>\n",
              "      <td>4/6/2003</td>\n",
              "    </tr>\n",
              "    <tr>\n",
              "      <th>21</th>\n",
              "      <td>4:09.09</td>\n",
              "      <td>Michael Phelps</td>\n",
              "      <td>7/27/2003</td>\n",
              "    </tr>\n",
              "    <tr>\n",
              "      <th>22</th>\n",
              "      <td>4:08.41</td>\n",
              "      <td>Michael Phelps</td>\n",
              "      <td>7/7/2004</td>\n",
              "    </tr>\n",
              "    <tr>\n",
              "      <th>23</th>\n",
              "      <td>4:08.26</td>\n",
              "      <td>Michael Phelps</td>\n",
              "      <td>8/14/2004</td>\n",
              "    </tr>\n",
              "    <tr>\n",
              "      <th>24</th>\n",
              "      <td>4:06.22</td>\n",
              "      <td>Michael Phelps</td>\n",
              "      <td>4/1/2007</td>\n",
              "    </tr>\n",
              "    <tr>\n",
              "      <th>25</th>\n",
              "      <td>4:05.25</td>\n",
              "      <td>Michael Phelps</td>\n",
              "      <td>6/29/2008</td>\n",
              "    </tr>\n",
              "    <tr>\n",
              "      <th>26</th>\n",
              "      <td>4:03.84</td>\n",
              "      <td>Michael Phelps</td>\n",
              "      <td>8/10/2008</td>\n",
              "    </tr>\n",
              "  </tbody>\n",
              "</table>\n",
              "</div>\n",
              "      <button class=\"colab-df-convert\" onclick=\"convertToInteractive('df-070da51e-84fd-4ecb-9ddd-2ef5a917393a')\"\n",
              "              title=\"Convert this dataframe to an interactive table.\"\n",
              "              style=\"display:none;\">\n",
              "        \n",
              "  <svg xmlns=\"http://www.w3.org/2000/svg\" height=\"24px\"viewBox=\"0 0 24 24\"\n",
              "       width=\"24px\">\n",
              "    <path d=\"M0 0h24v24H0V0z\" fill=\"none\"/>\n",
              "    <path d=\"M18.56 5.44l.94 2.06.94-2.06 2.06-.94-2.06-.94-.94-2.06-.94 2.06-2.06.94zm-11 1L8.5 8.5l.94-2.06 2.06-.94-2.06-.94L8.5 2.5l-.94 2.06-2.06.94zm10 10l.94 2.06.94-2.06 2.06-.94-2.06-.94-.94-2.06-.94 2.06-2.06.94z\"/><path d=\"M17.41 7.96l-1.37-1.37c-.4-.4-.92-.59-1.43-.59-.52 0-1.04.2-1.43.59L10.3 9.45l-7.72 7.72c-.78.78-.78 2.05 0 2.83L4 21.41c.39.39.9.59 1.41.59.51 0 1.02-.2 1.41-.59l7.78-7.78 2.81-2.81c.8-.78.8-2.07 0-2.86zM5.41 20L4 18.59l7.72-7.72 1.47 1.35L5.41 20z\"/>\n",
              "  </svg>\n",
              "      </button>\n",
              "      \n",
              "  <style>\n",
              "    .colab-df-container {\n",
              "      display:flex;\n",
              "      flex-wrap:wrap;\n",
              "      gap: 12px;\n",
              "    }\n",
              "\n",
              "    .colab-df-convert {\n",
              "      background-color: #E8F0FE;\n",
              "      border: none;\n",
              "      border-radius: 50%;\n",
              "      cursor: pointer;\n",
              "      display: none;\n",
              "      fill: #1967D2;\n",
              "      height: 32px;\n",
              "      padding: 0 0 0 0;\n",
              "      width: 32px;\n",
              "    }\n",
              "\n",
              "    .colab-df-convert:hover {\n",
              "      background-color: #E2EBFA;\n",
              "      box-shadow: 0px 1px 2px rgba(60, 64, 67, 0.3), 0px 1px 3px 1px rgba(60, 64, 67, 0.15);\n",
              "      fill: #174EA6;\n",
              "    }\n",
              "\n",
              "    [theme=dark] .colab-df-convert {\n",
              "      background-color: #3B4455;\n",
              "      fill: #D2E3FC;\n",
              "    }\n",
              "\n",
              "    [theme=dark] .colab-df-convert:hover {\n",
              "      background-color: #434B5C;\n",
              "      box-shadow: 0px 1px 3px 1px rgba(0, 0, 0, 0.15);\n",
              "      filter: drop-shadow(0px 1px 2px rgba(0, 0, 0, 0.3));\n",
              "      fill: #FFFFFF;\n",
              "    }\n",
              "  </style>\n",
              "\n",
              "      <script>\n",
              "        const buttonEl =\n",
              "          document.querySelector('#df-070da51e-84fd-4ecb-9ddd-2ef5a917393a button.colab-df-convert');\n",
              "        buttonEl.style.display =\n",
              "          google.colab.kernel.accessAllowed ? 'block' : 'none';\n",
              "\n",
              "        async function convertToInteractive(key) {\n",
              "          const element = document.querySelector('#df-070da51e-84fd-4ecb-9ddd-2ef5a917393a');\n",
              "          const dataTable =\n",
              "            await google.colab.kernel.invokeFunction('convertToInteractive',\n",
              "                                                     [key], {});\n",
              "          if (!dataTable) return;\n",
              "\n",
              "          const docLinkHtml = 'Like what you see? Visit the ' +\n",
              "            '<a target=\"_blank\" href=https://colab.research.google.com/notebooks/data_table.ipynb>data table notebook</a>'\n",
              "            + ' to learn more about interactive tables.';\n",
              "          element.innerHTML = '';\n",
              "          dataTable['output_type'] = 'display_data';\n",
              "          await google.colab.output.renderOutput(dataTable, element);\n",
              "          const docLink = document.createElement('div');\n",
              "          docLink.innerHTML = docLinkHtml;\n",
              "          element.appendChild(docLink);\n",
              "        }\n",
              "      </script>\n",
              "    </div>\n",
              "  </div>\n",
              "  "
            ],
            "text/plain": [
              "       Time             Name       Date\n",
              "0   4:31.00        Gary Hall  8/21/1970\n",
              "1   4:30.81        Gary Hall   8/3/1972\n",
              "2   4:30.56   Steven Furniss  8/23/1974\n",
              "3   4:28.11        Tim McKee  6/17/1976\n",
              "4   4:26.79  Rodney Strachan  6/17/1976\n",
              "5   4:23.68  Rodney Strachan  7/25/1976\n",
              "6   4:20.05   Jesse Vassallo  8/22/1978\n",
              "7   4:18.77     Dave Wharton  6/23/1986\n",
              "8   4:18.45     Dave Wharton  7/29/1987\n",
              "9   4:17.81     Dave Wharton  7/29/1987\n",
              "10  4:16.12     Dave Wharton  8/14/1987\n",
              "11  4:15.93     Dave Wharton   8/2/1989\n",
              "12  4:15.78    Eric Namesnik  7/30/1990\n",
              "13  4:15.57    Eric Namesnik  7/30/1990\n",
              "14  4:15.21    Eric Namesnik   1/8/1991\n",
              "15  4:14.50    Eric Namesnik  7/28/1993\n",
              "16  4:13.52        Tom Dolan   4/1/1994\n",
              "17  4:12.30        Tom Dolan   9/6/1994\n",
              "18  4:11.76        Tom Dolan  9/17/2000\n",
              "19  4:11.09   Michael Phelps  8/15/2002\n",
              "20  4:10.73   Michael Phelps   4/6/2003\n",
              "21  4:09.09   Michael Phelps  7/27/2003\n",
              "22  4:08.41   Michael Phelps   7/7/2004\n",
              "23  4:08.26   Michael Phelps  8/14/2004\n",
              "24  4:06.22   Michael Phelps   4/1/2007\n",
              "25  4:05.25   Michael Phelps  6/29/2008\n",
              "26  4:03.84   Michael Phelps  8/10/2008"
            ]
          },
          "execution_count": 79,
          "metadata": {},
          "output_type": "execute_result"
        }
      ],
      "source": [
        "# Presentation of the dataset\n",
        "event"
      ]
    },
    {
      "cell_type": "code",
      "execution_count": null,
      "metadata": {
        "id": "ffmuJjs858B7"
      },
      "outputs": [],
      "source": [
        "# Delete the old columns from the dataset\n",
        "event=event.drop(columns=['RANK','LSC','CLUB CODE','SWIMMER\\nCOUNTRY','MEET NAME','LOCATION\\nCITY'])"
      ]
    },
    {
      "cell_type": "code",
      "execution_count": null,
      "metadata": {
        "id": "eUE3KkiM8Hcs"
      },
      "outputs": [],
      "source": [
        "# Add new columns to a dataset\n",
        "event.columns = ['Time', 'Name', 'Date']"
      ]
    },
    {
      "cell_type": "code",
      "execution_count": null,
      "metadata": {
        "id": "UG511-iOSkN-"
      },
      "outputs": [],
      "source": [
        "# Auxiliar function to invert a specific row in the dataset\n",
        "\n",
        "def invert(nome, value, number):\n",
        "  aux=event[nome][value]\n",
        "  event[nome][value]=event[nome][number-1-value]\n",
        "  event[nome][number-1-value]=aux"
      ]
    },
    {
      "cell_type": "code",
      "execution_count": null,
      "metadata": {
        "id": "OsZTNsGmaSDV"
      },
      "outputs": [],
      "source": [
        "# Reorder the dataset rows by ascending date\n",
        "\n",
        "i=0\n",
        "while(i<event.shape[1]):\n",
        "  if event['Time'][i]==event['Time'][i-1]:\n",
        "    invert('Time', i, event.shape[1])\n",
        "    invert('Name', i, event.shape[1])\n",
        "    invert('Date', i, event.shape[1])\n",
        "  i+=1"
      ]
    },
    {
      "cell_type": "code",
      "execution_count": null,
      "metadata": {
        "id": "3lND4z-1_2Gq"
      },
      "outputs": [],
      "source": [
        "# Imput new rows in the dataset\n",
        "\n",
        "number = int(input('Number of Times: '))\n",
        "i=0\n",
        "while(i<number):\n",
        "  print(i+1)\n",
        "  time = input('Time: ')\n",
        "  name = input('Name: ')\n",
        "  date = input('Date: ')\n",
        "  club = input('Club: ')\n",
        "  event.loc[len(event.index)] = [time, name, club, date] \n",
        "  i=i+1"
      ]
    },
    {
      "cell_type": "code",
      "execution_count": null,
      "metadata": {
        "id": "tY8rJmcvBPmB"
      },
      "outputs": [],
      "source": [
        "# Presentation of the dataset again \n",
        "event"
      ]
    },
    {
      "cell_type": "code",
      "execution_count": null,
      "metadata": {
        "id": "1u1FSL-iUvT5"
      },
      "outputs": [],
      "source": [
        "# Create a new csv file\n",
        "event.to_csv('Medley 400.csv')"
      ]
    }
  ],
  "metadata": {
    "colab": {
      "collapsed_sections": [],
      "provenance": []
    },
    "kernelspec": {
      "display_name": "Python 3",
      "language": "python",
      "name": "python3"
    },
    "language_info": {
      "name": "python",
      "version": "3.8.5 (tags/v3.8.5:580fbb0, Jul 20 2020, 15:57:54) [MSC v.1924 64 bit (AMD64)]"
    },
    "vscode": {
      "interpreter": {
        "hash": "7a7cff293105564486f616b8d27c99088c28bad3aacfaa9d8d113d0ece0d2a91"
      }
    }
  },
  "nbformat": 4,
  "nbformat_minor": 0
}
